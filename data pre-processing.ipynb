{
 "cells": [
  {
   "cell_type": "code",
   "execution_count": 1,
   "metadata": {},
   "outputs": [
    {
     "name": "stdout",
     "output_type": "stream",
     "text": [
      "original energy data with missing values:\n",
      "  energy source  energy consumption (mwh)  cost (million$)\n",
      "0         solar                    1200.0            200.0\n",
      "1          wind                       NaN            400.0\n",
      "2    hydropower                    2900.0              NaN\n",
      "3    geothermal                       NaN            150.0\n",
      "4       biomass                    2500.0            250.0\n",
      "5       nuclear                    3200.0              NaN\n"
     ]
    }
   ],
   "source": [
    "import pandas as pd\n",
    "import numpy as np\n",
    "data = {\n",
    "    \"energy source\": [\"solar\", \"wind\", \"hydropower\", \"geothermal\", \"biomass\", \"nuclear\"],\n",
    "    \"energy consumption (mwh)\": [1200, np.nan, 2900, np.nan, 2500, 3200],\n",
    "    \"cost (million$)\": [200, 400, np.nan, 150, 250, np.nan]\n",
    "}    \n",
    "energy_df = pd.DataFrame(data)\n",
    "print(\"original energy data with missing values:\")\n",
    "print(energy_df)\n",
    "    "
   ]
  },
  {
   "cell_type": "code",
   "execution_count": 2,
   "metadata": {
    "scrolled": true
   },
   "outputs": [
    {
     "name": "stdout",
     "output_type": "stream",
     "text": [
      "\n",
      "data after removing rows with missing values:\n",
      "  energy source  energy consumption (mwh)  cost (million$)\n",
      "0         solar                    1200.0            200.0\n",
      "4       biomass                    2500.0            250.0\n"
     ]
    }
   ],
   "source": [
    "cleaned_df = energy_df.dropna()\n",
    "print(\"\\ndata after removing rows with missing values:\")\n",
    "print(cleaned_df)"
   ]
  },
  {
   "cell_type": "code",
   "execution_count": 3,
   "metadata": {},
   "outputs": [
    {
     "data": {
      "text/plain": [
       "energy source               0\n",
       "energy consumption (mwh)    2\n",
       "cost (million$)             2\n",
       "dtype: int64"
      ]
     },
     "execution_count": 3,
     "metadata": {},
     "output_type": "execute_result"
    }
   ],
   "source": [
    "missing_values=energy_df.isnull().sum()\n",
    "missing_values"
   ]
  },
  {
   "cell_type": "code",
   "execution_count": 4,
   "metadata": {},
   "outputs": [
    {
     "name": "stdout",
     "output_type": "stream",
     "text": [
      "\n",
      "data after forward filling:\n",
      "  energy source  energy consumption (mwh)  cost (million$)\n",
      "0         solar                    1200.0            200.0\n",
      "1          wind                    1200.0            400.0\n",
      "2    hydropower                    2900.0            400.0\n",
      "3    geothermal                    2900.0            150.0\n",
      "4       biomass                    2500.0            250.0\n",
      "5       nuclear                    3200.0            250.0\n"
     ]
    }
   ],
   "source": [
    "forward_filled_df = energy_df.fillna(method=\"ffill\")\n",
    "print(\"\\ndata after forward filling:\")\n",
    "print(forward_filled_df)"
   ]
  },
  {
   "cell_type": "code",
   "execution_count": 5,
   "metadata": {},
   "outputs": [
    {
     "name": "stdout",
     "output_type": "stream",
     "text": [
      "\n",
      "data after imputing missing values with mean:\n",
      "  energy source  energy consumption (mwh)  cost (million$)\n",
      "0         solar                    1200.0            200.0\n",
      "1          wind                    2450.0            400.0\n",
      "2    hydropower                    2900.0            250.0\n",
      "3    geothermal                    2450.0            150.0\n",
      "4       biomass                    2500.0            250.0\n",
      "5       nuclear                    3200.0            250.0\n"
     ]
    }
   ],
   "source": [
    "energy_df[\"energy consumption (mwh)\"].fillna(energy_df[\"energy consumption (mwh)\"].mean(), inplace=True)\n",
    "energy_df[\"cost (million$)\"].fillna(energy_df[\"cost (million$)\"].mean(), inplace=True)\n",
    "print(\"\\ndata after imputing missing values with mean:\")\n",
    "print(energy_df)"
   ]
  },
  {
   "cell_type": "code",
   "execution_count": 6,
   "metadata": {},
   "outputs": [
    {
     "data": {
      "text/plain": [
       "energy source               0\n",
       "energy consumption (mwh)    0\n",
       "cost (million$)             0\n",
       "dtype: int64"
      ]
     },
     "execution_count": 6,
     "metadata": {},
     "output_type": "execute_result"
    }
   ],
   "source": [
    "missing_values=cleaned_df.isnull().sum()\n",
    "missing_values"
   ]
  },
  {
   "cell_type": "code",
   "execution_count": 7,
   "metadata": {},
   "outputs": [
    {
     "name": "stdout",
     "output_type": "stream",
     "text": [
      "Requirement already satisfied: scikit-learn in c:\\programdata\\anaconda3\\lib\\site-packages (0.21.2)\n",
      "Requirement already satisfied: scipy>=0.17.0 in c:\\programdata\\anaconda3\\lib\\site-packages (from scikit-learn) (1.2.1)\n",
      "Requirement already satisfied: numpy>=1.11.0 in c:\\programdata\\anaconda3\\lib\\site-packages (from scikit-learn) (1.16.4)\n",
      "Requirement already satisfied: joblib>=0.11 in c:\\programdata\\anaconda3\\lib\\site-packages (from scikit-learn) (0.13.2)\n",
      "Note: you may need to restart the kernel to use updated packages.\n"
     ]
    }
   ],
   "source": [
    "pip install scikit-learn\n"
   ]
  },
  {
   "cell_type": "code",
   "execution_count": 8,
   "metadata": {},
   "outputs": [
    {
     "name": "stdout",
     "output_type": "stream",
     "text": [
      "\n",
      "data after one-hot encoding categorial variables:\n",
      "   energy consumption (mwh)  cost (million$)  energy source_biomass  \\\n",
      "0                    1200.0            200.0                      0   \n",
      "1                    2450.0            400.0                      0   \n",
      "2                    2900.0            250.0                      0   \n",
      "3                    2450.0            150.0                      0   \n",
      "4                    2500.0            250.0                      1   \n",
      "5                    3200.0            250.0                      0   \n",
      "\n",
      "   energy source_geothermal  energy source_hydropower  energy source_nuclear  \\\n",
      "0                         0                         0                      0   \n",
      "1                         0                         0                      0   \n",
      "2                         0                         1                      0   \n",
      "3                         1                         0                      0   \n",
      "4                         0                         0                      0   \n",
      "5                         0                         0                      1   \n",
      "\n",
      "   energy source_solar  energy source_wind  \n",
      "0                    1                   0  \n",
      "1                    0                   1  \n",
      "2                    0                   0  \n",
      "3                    0                   0  \n",
      "4                    0                   0  \n",
      "5                    0                   0  \n"
     ]
    }
   ],
   "source": [
    "energy_encoded_df = pd.get_dummies(energy_df, columns=[\"energy source\"])\n",
    "print(\"\\ndata after one-hot encoding categorial variables:\")\n",
    "print(energy_encoded_df)"
   ]
  },
  {
   "cell_type": "code",
   "execution_count": null,
   "metadata": {},
   "outputs": [],
   "source": []
  }
 ],
 "metadata": {
  "kernelspec": {
   "display_name": "Python 3",
   "language": "python",
   "name": "python3"
  },
  "language_info": {
   "codemirror_mode": {
    "name": "ipython",
    "version": 3
   },
   "file_extension": ".py",
   "mimetype": "text/x-python",
   "name": "python",
   "nbconvert_exporter": "python",
   "pygments_lexer": "ipython3",
   "version": "3.7.3"
  }
 },
 "nbformat": 4,
 "nbformat_minor": 2
}
