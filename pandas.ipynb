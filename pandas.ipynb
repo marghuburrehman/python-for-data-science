{
 "cells": [
  {
   "cell_type": "code",
   "execution_count": 19,
   "metadata": {},
   "outputs": [],
   "source": [
    "import pandas as pd\n",
    "renewable_sources = [\"solar\", \"wind\", \"hydropower\", \"geothermal\", \"biomass\"]\n",
    "data = {\n",
    "    \"project\": [\"solar farm a\",\"wind turbine x\",\"hydropower y\",\"solar roof z\",\"geothermal plant p\"],\n",
    "    \"technology\": [\"solar\",\"wind\",\"hydropower\",\"solar\",\"geothermal\"],\n",
    "    \"capacity (mw)\": [150,300,200,50,100],\n",
    "    \"cost (million $)\": [200,400,350,100,250],\n",
    "    \"location\": [\"california\",\"texas\",\"washington\",\"nevada\",\"idaho\"],\n",
    "    \"completion year\": [2023,2024,2022,2025,2023],\n",
    "}"
   ]
  },
  {
   "cell_type": "code",
   "execution_count": 26,
   "metadata": {},
   "outputs": [
    {
     "name": "stdout",
     "output_type": "stream",
     "text": [
      "renewable energy sources:\n",
      "0         solar\n",
      "1          wind\n",
      "2    hydropower\n",
      "3    geothermal\n",
      "4       biomass\n",
      "dtype: object\n"
     ]
    }
   ],
   "source": [
    "renewable_series = pd.Series(renewable_sources)\n",
    "print(\"renewable energy sources:\")\n",
    "print(renewable_series)"
   ]
  },
  {
   "cell_type": "code",
   "execution_count": 27,
   "metadata": {},
   "outputs": [
    {
     "name": "stdout",
     "output_type": "stream",
     "text": [
      "\n",
      "green technology projects DataFrame:\n",
      "              project  technology  capacity (mw)  cost (million $)  \\\n",
      "0        solar farm a       solar            150               200   \n",
      "1      wind turbine x        wind            300               400   \n",
      "2        hydropower y  hydropower            200               350   \n",
      "3        solar roof z       solar             50               100   \n",
      "4  geothermal plant p  geothermal            100               250   \n",
      "\n",
      "     location  completion year  \n",
      "0  california             2023  \n",
      "1       texas             2024  \n",
      "2  washington             2022  \n",
      "3      nevada             2025  \n",
      "4       idaho             2023  \n"
     ]
    }
   ],
   "source": [
    "projects_df = pd.DataFrame(data)\n",
    "print(\"\\ngreen technology projects DataFrame:\")\n",
    "print(projects_df)"
   ]
  },
  {
   "cell_type": "code",
   "execution_count": 28,
   "metadata": {},
   "outputs": [
    {
     "name": "stdout",
     "output_type": "stream",
     "text": [
      "\n",
      "list of projects:\n",
      "0          solar farm a\n",
      "1        wind turbine x\n",
      "2          hydropower y\n",
      "3          solar roof z\n",
      "4    geothermal plant p\n",
      "Name: project, dtype: object\n"
     ]
    }
   ],
   "source": [
    "print(\"\\nlist of projects:\")\n",
    "print(projects_df [\"project\"])"
   ]
  },
  {
   "cell_type": "code",
   "execution_count": 29,
   "metadata": {},
   "outputs": [
    {
     "name": "stdout",
     "output_type": "stream",
     "text": [
      "\n",
      "list of capacity:\n",
      "0    150\n",
      "1    300\n",
      "2    200\n",
      "3     50\n",
      "4    100\n",
      "Name: capacity (mw), dtype: int64\n"
     ]
    }
   ],
   "source": [
    "print(\"\\nlist of capacity:\")\n",
    "print(projects_df[\"capacity (mw)\"])\n"
   ]
  },
  {
   "cell_type": "code",
   "execution_count": 30,
   "metadata": {
    "scrolled": true
   },
   "outputs": [
    {
     "name": "stdout",
     "output_type": "stream",
     "text": [
      "\n",
      "projects with capacity greater than 100 mw:\n",
      "          project  technology  capacity (mw)  cost (million $)    location  \\\n",
      "0    solar farm a       solar            150               200  california   \n",
      "1  wind turbine x        wind            300               400       texas   \n",
      "2    hydropower y  hydropower            200               350  washington   \n",
      "\n",
      "   completion year  \n",
      "0             2023  \n",
      "1             2024  \n",
      "2             2022  \n"
     ]
    }
   ],
   "source": [
    "high_capacity_projects = projects_df[ projects_df[\"capacity (mw)\"]>100]\n",
    "print(\"\\nprojects with capacity greater than 100 mw:\")\n",
    "print(high_capacity_projects)"
   ]
  },
  {
   "cell_type": "code",
   "execution_count": 31,
   "metadata": {
    "scrolled": true
   },
   "outputs": [
    {
     "name": "stdout",
     "output_type": "stream",
     "text": [
      "\n",
      "DataFrame with cost per mw:\n",
      "              project  technology  capacity (mw)  cost (million $)  \\\n",
      "0        solar farm a       solar            150               200   \n",
      "1      wind turbine x        wind            300               400   \n",
      "2        hydropower y  hydropower            200               350   \n",
      "3        solar roof z       solar             50               100   \n",
      "4  geothermal plant p  geothermal            100               250   \n",
      "\n",
      "     location  completion year  cost per mw  \n",
      "0  california             2023     1.333333  \n",
      "1       texas             2024     1.333333  \n",
      "2  washington             2022     1.750000  \n",
      "3      nevada             2025     2.000000  \n",
      "4       idaho             2023     2.500000  \n"
     ]
    }
   ],
   "source": [
    "projects_df[\"cost per mw\"] = projects_df[\"cost (million $)\"] / projects_df[\"capacity (mw)\"]\n",
    "print(\"\\nDataFrame with cost per mw:\")\n",
    "print(projects_df)"
   ]
  },
  {
   "cell_type": "code",
   "execution_count": 33,
   "metadata": {
    "scrolled": true
   },
   "outputs": [
    {
     "name": "stdout",
     "output_type": "stream",
     "text": [
      "\n",
      "total capacity of all projects: 800 mw\n",
      "total cost of all projects: $1300 million\n"
     ]
    }
   ],
   "source": [
    "total_capacity = projects_df[\"capacity (mw)\"].sum()\n",
    "total_cost = projects_df[\"cost (million $)\"].sum()\n",
    "print(f\"\\ntotal capacity of all projects: {total_capacity} mw\")\n",
    "print(f\"total cost of all projects: ${total_cost} million\")"
   ]
  },
  {
   "cell_type": "code",
   "execution_count": 35,
   "metadata": {},
   "outputs": [
    {
     "name": "stdout",
     "output_type": "stream",
     "text": [
      "\n",
      "total capacity by technology:\n",
      "technology\n",
      "geothermal    100\n",
      "hydropower    200\n",
      "solar         200\n",
      "wind          300\n",
      "Name: capacity (mw), dtype: int64\n"
     ]
    }
   ],
   "source": [
    "grouped_data = projects_df.groupby(\"technology\")[\"capacity (mw)\"].sum()\n",
    "print(\"\\ntotal capacity by technology:\")\n",
    "print(grouped_data)"
   ]
  },
  {
   "cell_type": "code",
   "execution_count": null,
   "metadata": {},
   "outputs": [],
   "source": []
  }
 ],
 "metadata": {
  "kernelspec": {
   "display_name": "Python 3",
   "language": "python",
   "name": "python3"
  },
  "language_info": {
   "codemirror_mode": {
    "name": "ipython",
    "version": 3
   },
   "file_extension": ".py",
   "mimetype": "text/x-python",
   "name": "python",
   "nbconvert_exporter": "python",
   "pygments_lexer": "ipython3",
   "version": "3.7.3"
  }
 },
 "nbformat": 4,
 "nbformat_minor": 2
}
