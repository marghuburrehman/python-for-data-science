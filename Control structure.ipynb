{
 "cells": [
  {
   "cell_type": "code",
   "execution_count": 6,
   "metadata": {},
   "outputs": [
    {
     "name": "stdout",
     "output_type": "stream",
     "text": [
      "cities with high temperature (>26):\n",
      "City B) - 30\n",
      "City E) - 28\n"
     ]
    }
   ],
   "source": [
    "climate_data = [\n",
    "    {\"city\": \"City A\", \"temperature\":25, \"carbon_footprint\":500},\n",
    "    {\"city\": \"City B\", \"temperature\":30, \"carbon_footprint\":350},\n",
    "    {\"city\": \"City C\", \"temperature\":22, \"carbon_footprint\":600},\n",
    "    {\"city\": \"City D\", \"temperature\":15, \"carbon_footprint\":200},\n",
    "    {\"city\": \"City E\", \"temperature\":28, \"carbon_footprint\":450},\n",
    "]\n",
    "high_temp_threshold = 26\n",
    "high_temp_cities = [city for city in climate_data if city[\"temperature\"] > high_temp_threshold]\n",
    "print(\"cities with high temperature (>26):\")\n",
    "for city in high_temp_cities:\n",
    "    print(f\"{city['city']}) - {city['temperature']}\")"
   ]
  },
  {
   "cell_type": "markdown",
   "metadata": {},
   "source": [
    "## using loop"
   ]
  },
  {
   "cell_type": "code",
   "execution_count": 7,
   "metadata": {},
   "outputs": [
    {
     "name": "stdout",
     "output_type": "stream",
     "text": [
      "\\ Average Carbon Footprint:420.000000 kg CO2\n"
     ]
    }
   ],
   "source": [
    "total_carbon = 0\n",
    "for city in climate_data :\n",
    "    total_carbon += city[\"carbon_footprint\"]\n",
    "average_carbon_footprint = total_carbon /len(climate_data)\n",
    "print(f\"\\ Average Carbon Footprint:{average_carbon_footprint:2f} kg CO2\")"
   ]
  },
  {
   "cell_type": "code",
   "execution_count": 8,
   "metadata": {},
   "outputs": [
    {
     "name": "stdout",
     "output_type": "stream",
     "text": [
      "\n",
      " sustainable cities(carbon footprint < 400 kg co2):\n",
      "City B-350 kg co2\n",
      "City D-200 kg co2\n"
     ]
    }
   ],
   "source": [
    "sustainability_threshold =400\n",
    "sustainable_cities = list(filter(lambda city: city[\"carbon_footprint\"] <sustainability_threshold,climate_data))\n",
    "print(\"\\n sustainable cities(carbon footprint < 400 kg co2):\")\n",
    "for city in sustainable_cities:\n",
    "    print(f\"{city['city']}-{city['carbon_footprint']} kg co2\")"
   ]
  },
  {
   "cell_type": "code",
   "execution_count": 11,
   "metadata": {},
   "outputs": [
    {
     "name": "stdout",
     "output_type": "stream",
     "text": [
      "\n",
      " city with the highest carbo footprint:\n",
      "City C-600 kg co2\n"
     ]
    }
   ],
   "source": [
    "highest_footprint_city = max(climate_data, key=lambda city:city[\"carbon_footprint\"])\n",
    "print(f\"\\n city with the highest carbo footprint:\")\n",
    "print(f\"{highest_footprint_city['city']}-{highest_footprint_city['carbon_footprint']} kg co2\")"
   ]
  }
 ],
 "metadata": {
  "kernelspec": {
   "display_name": "Python 3",
   "language": "python",
   "name": "python3"
  },
  "language_info": {
   "codemirror_mode": {
    "name": "ipython",
    "version": 3
   },
   "file_extension": ".py",
   "mimetype": "text/x-python",
   "name": "python",
   "nbconvert_exporter": "python",
   "pygments_lexer": "ipython3",
   "version": "3.7.3"
  }
 },
 "nbformat": 4,
 "nbformat_minor": 2
}
